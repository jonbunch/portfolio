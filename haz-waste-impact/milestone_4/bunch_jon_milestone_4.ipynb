{
 "cells": [
  {
   "cell_type": "markdown",
   "metadata": {
    "collapsed": true,
    "pycharm": {
     "name": "#%% md\n"
    }
   },
   "source": [
    "## Jonathan Bunch\n",
    "## Project Milestone 4\n",
    "## 23 May, 2021\n",
    "---\n",
    "For this milestone I will be working with the 'BISON' API provided by the USGS.\n",
    "This API provides occurrence data for animal species, and I will be extracting the number of observations of the\n",
    "wood stork (Mycteria americana) in each county of Florida.  This is considered an indicator species for habitat health.\n",
    "https://bison.usgs.gov/#api"
   ]
  },
  {
   "cell_type": "code",
   "execution_count": 10,
   "outputs": [
    {
     "name": "stdout",
     "output_type": "stream",
     "text": [
      "Attempting to connect to API...\n",
      "API connection successful! Retrieving data...\n"
     ]
    },
    {
     "data": {
      "text/plain": "            12071        12073         12031        12075            12033  \\\ntotal       12979         3040          5620          636               15   \nname   Lee County  Leon County  Duval County  Levy County  Escambia County   \nstate     Florida      Florida       Florida      Florida          Florida   \n\n                12077          12119           12035           12079  \\\ntotal               8            376             528              50   \nname   Liberty County  Sumter County  Flagler County  Madison County   \nstate         Florida        Florida         Florida         Florida   \n\n                  12111  ...             12109         12101            12023  \\\ntotal              1218  ...              5765          3731              221   \nname   St. Lucie County  ...  St. Johns County  Pasco County  Columbia County   \nstate           Florida  ...           Florida       Florida          Florida   \n\n                  12067            12103        12069        12105  \\\ntotal                19            10760         1125         7643   \nname   Lafayette County  Pinellas County  Lake County  Polk County   \nstate           Florida          Florida      Florida      Florida   \n\n               12027          12107         12029  \ntotal            481            115            48  \nname   DeSoto County  Putnam County  Dixie County  \nstate        Florida        Florida       Florida  \n\n[3 rows x 67 columns]",
      "text/html": "<div>\n<style scoped>\n    .dataframe tbody tr th:only-of-type {\n        vertical-align: middle;\n    }\n\n    .dataframe tbody tr th {\n        vertical-align: top;\n    }\n\n    .dataframe thead th {\n        text-align: right;\n    }\n</style>\n<table border=\"1\" class=\"dataframe\">\n  <thead>\n    <tr style=\"text-align: right;\">\n      <th></th>\n      <th>12071</th>\n      <th>12073</th>\n      <th>12031</th>\n      <th>12075</th>\n      <th>12033</th>\n      <th>12077</th>\n      <th>12119</th>\n      <th>12035</th>\n      <th>12079</th>\n      <th>12111</th>\n      <th>...</th>\n      <th>12109</th>\n      <th>12101</th>\n      <th>12023</th>\n      <th>12067</th>\n      <th>12103</th>\n      <th>12069</th>\n      <th>12105</th>\n      <th>12027</th>\n      <th>12107</th>\n      <th>12029</th>\n    </tr>\n  </thead>\n  <tbody>\n    <tr>\n      <th>total</th>\n      <td>12979</td>\n      <td>3040</td>\n      <td>5620</td>\n      <td>636</td>\n      <td>15</td>\n      <td>8</td>\n      <td>376</td>\n      <td>528</td>\n      <td>50</td>\n      <td>1218</td>\n      <td>...</td>\n      <td>5765</td>\n      <td>3731</td>\n      <td>221</td>\n      <td>19</td>\n      <td>10760</td>\n      <td>1125</td>\n      <td>7643</td>\n      <td>481</td>\n      <td>115</td>\n      <td>48</td>\n    </tr>\n    <tr>\n      <th>name</th>\n      <td>Lee County</td>\n      <td>Leon County</td>\n      <td>Duval County</td>\n      <td>Levy County</td>\n      <td>Escambia County</td>\n      <td>Liberty County</td>\n      <td>Sumter County</td>\n      <td>Flagler County</td>\n      <td>Madison County</td>\n      <td>St. Lucie County</td>\n      <td>...</td>\n      <td>St. Johns County</td>\n      <td>Pasco County</td>\n      <td>Columbia County</td>\n      <td>Lafayette County</td>\n      <td>Pinellas County</td>\n      <td>Lake County</td>\n      <td>Polk County</td>\n      <td>DeSoto County</td>\n      <td>Putnam County</td>\n      <td>Dixie County</td>\n    </tr>\n    <tr>\n      <th>state</th>\n      <td>Florida</td>\n      <td>Florida</td>\n      <td>Florida</td>\n      <td>Florida</td>\n      <td>Florida</td>\n      <td>Florida</td>\n      <td>Florida</td>\n      <td>Florida</td>\n      <td>Florida</td>\n      <td>Florida</td>\n      <td>...</td>\n      <td>Florida</td>\n      <td>Florida</td>\n      <td>Florida</td>\n      <td>Florida</td>\n      <td>Florida</td>\n      <td>Florida</td>\n      <td>Florida</td>\n      <td>Florida</td>\n      <td>Florida</td>\n      <td>Florida</td>\n    </tr>\n  </tbody>\n</table>\n<p>3 rows × 67 columns</p>\n</div>"
     },
     "execution_count": 10,
     "metadata": {},
     "output_type": "execute_result"
    }
   ],
   "source": [
    "import pandas as pd\n",
    "import requests\n",
    "\n",
    "# This function sends the HTTP request and handles any connection errors that may come up.  It returns a dictionary\n",
    "# containing the contents of the JSON file returned by the API call.\n",
    "def send_request(address):\n",
    "    print('Attempting to connect to API...')\n",
    "    try:\n",
    "        data_request = requests.get(address, timeout=30)\n",
    "        data_request.raise_for_status()\n",
    "    except requests.exceptions.HTTPError:\n",
    "        print(\"Unfortunately there was an error with your request (error type: HTTP Error). Please try again.\")\n",
    "    except requests.exceptions.ConnectionError:\n",
    "        print(\"Unfortunately there was an error with your request (error type: Connection Error). Please try again.\")\n",
    "    except requests.exceptions.Timeout:\n",
    "        print(\"Unfortunately there was an error with your request (error type: Timeout Error). Please try again.\")\n",
    "    except requests.exceptions.RequestException:\n",
    "        print(\"Unfortunately there was an error with your request (error type: Other). Please try again.\")\n",
    "    else:\n",
    "        data_json = data_request.json()\n",
    "        if data_json is None:\n",
    "            return 0\n",
    "        else:\n",
    "            print('API connection successful! Retrieving data...')\n",
    "            return data_json\n",
    "\n",
    "\n",
    "# Choose the species and create the url.\n",
    "species = 'Mycteria%20americana'\n",
    "url = f'https://bison.usgs.gov/api/search.json?species={species}&type=scientific_name&state=Florida&start=0&count=1000'\n",
    "\n",
    "# Send the request and create a data frame from the \"counties\" data.\n",
    "wood_stork_data = send_request(url)\n",
    "ws_df = pd.DataFrame(wood_stork_data['counties']['data'])\n",
    "ws_df"
   ],
   "metadata": {
    "collapsed": false,
    "pycharm": {
     "name": "#%%\n"
    }
   }
  },
  {
   "cell_type": "markdown",
   "source": [
    "The column names are currently the county codes. I will change the column names to the county names, but first I want\n",
    "to change the formatting of the county names.\n",
    "\n",
    "First, I will remove the \" County\" after the name of each county."
   ],
   "metadata": {
    "collapsed": false
   }
  },
  {
   "cell_type": "code",
   "execution_count": 11,
   "outputs": [
    {
     "data": {
      "text/plain": "         12071    12073    12031    12075     12033    12077    12119  \\\ntotal    12979     3040     5620      636        15        8      376   \nname       Lee     Leon    Duval     Levy  Escambia  Liberty   Sumter   \nstate  Florida  Florida  Florida  Florida   Florida  Florida  Florida   \n\n         12035    12079      12111  ...      12109    12101     12023  \\\ntotal      528       50       1218  ...       5765     3731       221   \nname   Flagler  Madison  St. Lucie  ...  St. Johns    Pasco  Columbia   \nstate  Florida  Florida    Florida  ...    Florida  Florida   Florida   \n\n           12067     12103    12069    12105    12027    12107    12029  \ntotal         19     10760     1125     7643      481      115       48  \nname   Lafayette  Pinellas     Lake     Polk   DeSoto   Putnam    Dixie  \nstate    Florida   Florida  Florida  Florida  Florida  Florida  Florida  \n\n[3 rows x 67 columns]",
      "text/html": "<div>\n<style scoped>\n    .dataframe tbody tr th:only-of-type {\n        vertical-align: middle;\n    }\n\n    .dataframe tbody tr th {\n        vertical-align: top;\n    }\n\n    .dataframe thead th {\n        text-align: right;\n    }\n</style>\n<table border=\"1\" class=\"dataframe\">\n  <thead>\n    <tr style=\"text-align: right;\">\n      <th></th>\n      <th>12071</th>\n      <th>12073</th>\n      <th>12031</th>\n      <th>12075</th>\n      <th>12033</th>\n      <th>12077</th>\n      <th>12119</th>\n      <th>12035</th>\n      <th>12079</th>\n      <th>12111</th>\n      <th>...</th>\n      <th>12109</th>\n      <th>12101</th>\n      <th>12023</th>\n      <th>12067</th>\n      <th>12103</th>\n      <th>12069</th>\n      <th>12105</th>\n      <th>12027</th>\n      <th>12107</th>\n      <th>12029</th>\n    </tr>\n  </thead>\n  <tbody>\n    <tr>\n      <th>total</th>\n      <td>12979</td>\n      <td>3040</td>\n      <td>5620</td>\n      <td>636</td>\n      <td>15</td>\n      <td>8</td>\n      <td>376</td>\n      <td>528</td>\n      <td>50</td>\n      <td>1218</td>\n      <td>...</td>\n      <td>5765</td>\n      <td>3731</td>\n      <td>221</td>\n      <td>19</td>\n      <td>10760</td>\n      <td>1125</td>\n      <td>7643</td>\n      <td>481</td>\n      <td>115</td>\n      <td>48</td>\n    </tr>\n    <tr>\n      <th>name</th>\n      <td>Lee</td>\n      <td>Leon</td>\n      <td>Duval</td>\n      <td>Levy</td>\n      <td>Escambia</td>\n      <td>Liberty</td>\n      <td>Sumter</td>\n      <td>Flagler</td>\n      <td>Madison</td>\n      <td>St. Lucie</td>\n      <td>...</td>\n      <td>St. Johns</td>\n      <td>Pasco</td>\n      <td>Columbia</td>\n      <td>Lafayette</td>\n      <td>Pinellas</td>\n      <td>Lake</td>\n      <td>Polk</td>\n      <td>DeSoto</td>\n      <td>Putnam</td>\n      <td>Dixie</td>\n    </tr>\n    <tr>\n      <th>state</th>\n      <td>Florida</td>\n      <td>Florida</td>\n      <td>Florida</td>\n      <td>Florida</td>\n      <td>Florida</td>\n      <td>Florida</td>\n      <td>Florida</td>\n      <td>Florida</td>\n      <td>Florida</td>\n      <td>Florida</td>\n      <td>...</td>\n      <td>Florida</td>\n      <td>Florida</td>\n      <td>Florida</td>\n      <td>Florida</td>\n      <td>Florida</td>\n      <td>Florida</td>\n      <td>Florida</td>\n      <td>Florida</td>\n      <td>Florida</td>\n      <td>Florida</td>\n    </tr>\n  </tbody>\n</table>\n<p>3 rows × 67 columns</p>\n</div>"
     },
     "execution_count": 11,
     "metadata": {},
     "output_type": "execute_result"
    }
   ],
   "source": [
    "ws_df.iloc[1, :] = ws_df.iloc[1, :].apply(lambda x: x.replace(\" County\", \"\"))\n",
    "ws_df"
   ],
   "metadata": {
    "collapsed": false,
    "pycharm": {
     "name": "#%%\n"
    }
   }
  },
  {
   "cell_type": "markdown",
   "source": [
    "Next, I will change all the casing to lower."
   ],
   "metadata": {
    "collapsed": false
   }
  },
  {
   "cell_type": "code",
   "execution_count": 12,
   "outputs": [
    {
     "data": {
      "text/plain": "         12071    12073    12031    12075     12033    12077    12119  \\\ntotal    12979     3040     5620      636        15        8      376   \nname       lee     leon    duval     levy  escambia  liberty   sumter   \nstate  Florida  Florida  Florida  Florida   Florida  Florida  Florida   \n\n         12035    12079      12111  ...      12109    12101     12023  \\\ntotal      528       50       1218  ...       5765     3731       221   \nname   flagler  madison  st. lucie  ...  st. johns    pasco  columbia   \nstate  Florida  Florida    Florida  ...    Florida  Florida   Florida   \n\n           12067     12103    12069    12105    12027    12107    12029  \ntotal         19     10760     1125     7643      481      115       48  \nname   lafayette  pinellas     lake     polk   desoto   putnam    dixie  \nstate    Florida   Florida  Florida  Florida  Florida  Florida  Florida  \n\n[3 rows x 67 columns]",
      "text/html": "<div>\n<style scoped>\n    .dataframe tbody tr th:only-of-type {\n        vertical-align: middle;\n    }\n\n    .dataframe tbody tr th {\n        vertical-align: top;\n    }\n\n    .dataframe thead th {\n        text-align: right;\n    }\n</style>\n<table border=\"1\" class=\"dataframe\">\n  <thead>\n    <tr style=\"text-align: right;\">\n      <th></th>\n      <th>12071</th>\n      <th>12073</th>\n      <th>12031</th>\n      <th>12075</th>\n      <th>12033</th>\n      <th>12077</th>\n      <th>12119</th>\n      <th>12035</th>\n      <th>12079</th>\n      <th>12111</th>\n      <th>...</th>\n      <th>12109</th>\n      <th>12101</th>\n      <th>12023</th>\n      <th>12067</th>\n      <th>12103</th>\n      <th>12069</th>\n      <th>12105</th>\n      <th>12027</th>\n      <th>12107</th>\n      <th>12029</th>\n    </tr>\n  </thead>\n  <tbody>\n    <tr>\n      <th>total</th>\n      <td>12979</td>\n      <td>3040</td>\n      <td>5620</td>\n      <td>636</td>\n      <td>15</td>\n      <td>8</td>\n      <td>376</td>\n      <td>528</td>\n      <td>50</td>\n      <td>1218</td>\n      <td>...</td>\n      <td>5765</td>\n      <td>3731</td>\n      <td>221</td>\n      <td>19</td>\n      <td>10760</td>\n      <td>1125</td>\n      <td>7643</td>\n      <td>481</td>\n      <td>115</td>\n      <td>48</td>\n    </tr>\n    <tr>\n      <th>name</th>\n      <td>lee</td>\n      <td>leon</td>\n      <td>duval</td>\n      <td>levy</td>\n      <td>escambia</td>\n      <td>liberty</td>\n      <td>sumter</td>\n      <td>flagler</td>\n      <td>madison</td>\n      <td>st. lucie</td>\n      <td>...</td>\n      <td>st. johns</td>\n      <td>pasco</td>\n      <td>columbia</td>\n      <td>lafayette</td>\n      <td>pinellas</td>\n      <td>lake</td>\n      <td>polk</td>\n      <td>desoto</td>\n      <td>putnam</td>\n      <td>dixie</td>\n    </tr>\n    <tr>\n      <th>state</th>\n      <td>Florida</td>\n      <td>Florida</td>\n      <td>Florida</td>\n      <td>Florida</td>\n      <td>Florida</td>\n      <td>Florida</td>\n      <td>Florida</td>\n      <td>Florida</td>\n      <td>Florida</td>\n      <td>Florida</td>\n      <td>...</td>\n      <td>Florida</td>\n      <td>Florida</td>\n      <td>Florida</td>\n      <td>Florida</td>\n      <td>Florida</td>\n      <td>Florida</td>\n      <td>Florida</td>\n      <td>Florida</td>\n      <td>Florida</td>\n      <td>Florida</td>\n    </tr>\n  </tbody>\n</table>\n<p>3 rows × 67 columns</p>\n</div>"
     },
     "execution_count": 12,
     "metadata": {},
     "output_type": "execute_result"
    }
   ],
   "source": [
    "ws_df.iloc[1, :] = ws_df.iloc[1, :].apply(lambda x: x.lower())\n",
    "ws_df"
   ],
   "metadata": {
    "collapsed": false,
    "pycharm": {
     "name": "#%%\n"
    }
   }
  },
  {
   "cell_type": "markdown",
   "source": [
    "Next, I will remove the periods used to abbreviate some names."
   ],
   "metadata": {
    "collapsed": false
   }
  },
  {
   "cell_type": "code",
   "execution_count": 13,
   "outputs": [
    {
     "data": {
      "text/plain": "         12071    12073    12031    12075     12033    12077    12119  \\\ntotal    12979     3040     5620      636        15        8      376   \nname       lee     leon    duval     levy  escambia  liberty   sumter   \nstate  Florida  Florida  Florida  Florida   Florida  Florida  Florida   \n\n         12035    12079     12111  ...     12109    12101     12023  \\\ntotal      528       50      1218  ...      5765     3731       221   \nname   flagler  madison  st lucie  ...  st johns    pasco  columbia   \nstate  Florida  Florida   Florida  ...   Florida  Florida   Florida   \n\n           12067     12103    12069    12105    12027    12107    12029  \ntotal         19     10760     1125     7643      481      115       48  \nname   lafayette  pinellas     lake     polk   desoto   putnam    dixie  \nstate    Florida   Florida  Florida  Florida  Florida  Florida  Florida  \n\n[3 rows x 67 columns]",
      "text/html": "<div>\n<style scoped>\n    .dataframe tbody tr th:only-of-type {\n        vertical-align: middle;\n    }\n\n    .dataframe tbody tr th {\n        vertical-align: top;\n    }\n\n    .dataframe thead th {\n        text-align: right;\n    }\n</style>\n<table border=\"1\" class=\"dataframe\">\n  <thead>\n    <tr style=\"text-align: right;\">\n      <th></th>\n      <th>12071</th>\n      <th>12073</th>\n      <th>12031</th>\n      <th>12075</th>\n      <th>12033</th>\n      <th>12077</th>\n      <th>12119</th>\n      <th>12035</th>\n      <th>12079</th>\n      <th>12111</th>\n      <th>...</th>\n      <th>12109</th>\n      <th>12101</th>\n      <th>12023</th>\n      <th>12067</th>\n      <th>12103</th>\n      <th>12069</th>\n      <th>12105</th>\n      <th>12027</th>\n      <th>12107</th>\n      <th>12029</th>\n    </tr>\n  </thead>\n  <tbody>\n    <tr>\n      <th>total</th>\n      <td>12979</td>\n      <td>3040</td>\n      <td>5620</td>\n      <td>636</td>\n      <td>15</td>\n      <td>8</td>\n      <td>376</td>\n      <td>528</td>\n      <td>50</td>\n      <td>1218</td>\n      <td>...</td>\n      <td>5765</td>\n      <td>3731</td>\n      <td>221</td>\n      <td>19</td>\n      <td>10760</td>\n      <td>1125</td>\n      <td>7643</td>\n      <td>481</td>\n      <td>115</td>\n      <td>48</td>\n    </tr>\n    <tr>\n      <th>name</th>\n      <td>lee</td>\n      <td>leon</td>\n      <td>duval</td>\n      <td>levy</td>\n      <td>escambia</td>\n      <td>liberty</td>\n      <td>sumter</td>\n      <td>flagler</td>\n      <td>madison</td>\n      <td>st lucie</td>\n      <td>...</td>\n      <td>st johns</td>\n      <td>pasco</td>\n      <td>columbia</td>\n      <td>lafayette</td>\n      <td>pinellas</td>\n      <td>lake</td>\n      <td>polk</td>\n      <td>desoto</td>\n      <td>putnam</td>\n      <td>dixie</td>\n    </tr>\n    <tr>\n      <th>state</th>\n      <td>Florida</td>\n      <td>Florida</td>\n      <td>Florida</td>\n      <td>Florida</td>\n      <td>Florida</td>\n      <td>Florida</td>\n      <td>Florida</td>\n      <td>Florida</td>\n      <td>Florida</td>\n      <td>Florida</td>\n      <td>...</td>\n      <td>Florida</td>\n      <td>Florida</td>\n      <td>Florida</td>\n      <td>Florida</td>\n      <td>Florida</td>\n      <td>Florida</td>\n      <td>Florida</td>\n      <td>Florida</td>\n      <td>Florida</td>\n      <td>Florida</td>\n    </tr>\n  </tbody>\n</table>\n<p>3 rows × 67 columns</p>\n</div>"
     },
     "execution_count": 13,
     "metadata": {},
     "output_type": "execute_result"
    }
   ],
   "source": [
    "ws_df.iloc[1, :] = ws_df.iloc[1, :].apply(lambda x: x.replace(\".\", \"\"))\n",
    "ws_df"
   ],
   "metadata": {
    "collapsed": false,
    "pycharm": {
     "name": "#%%\n"
    }
   }
  },
  {
   "cell_type": "markdown",
   "source": [
    "I will also replace any spaces with underscores."
   ],
   "metadata": {
    "collapsed": false
   }
  },
  {
   "cell_type": "code",
   "execution_count": 14,
   "outputs": [
    {
     "data": {
      "text/plain": "         12071    12073    12031    12075     12033    12077    12119  \\\ntotal    12979     3040     5620      636        15        8      376   \nname       lee     leon    duval     levy  escambia  liberty   sumter   \nstate  Florida  Florida  Florida  Florida   Florida  Florida  Florida   \n\n         12035    12079     12111  ...     12109    12101     12023  \\\ntotal      528       50      1218  ...      5765     3731       221   \nname   flagler  madison  st_lucie  ...  st_johns    pasco  columbia   \nstate  Florida  Florida   Florida  ...   Florida  Florida   Florida   \n\n           12067     12103    12069    12105    12027    12107    12029  \ntotal         19     10760     1125     7643      481      115       48  \nname   lafayette  pinellas     lake     polk   desoto   putnam    dixie  \nstate    Florida   Florida  Florida  Florida  Florida  Florida  Florida  \n\n[3 rows x 67 columns]",
      "text/html": "<div>\n<style scoped>\n    .dataframe tbody tr th:only-of-type {\n        vertical-align: middle;\n    }\n\n    .dataframe tbody tr th {\n        vertical-align: top;\n    }\n\n    .dataframe thead th {\n        text-align: right;\n    }\n</style>\n<table border=\"1\" class=\"dataframe\">\n  <thead>\n    <tr style=\"text-align: right;\">\n      <th></th>\n      <th>12071</th>\n      <th>12073</th>\n      <th>12031</th>\n      <th>12075</th>\n      <th>12033</th>\n      <th>12077</th>\n      <th>12119</th>\n      <th>12035</th>\n      <th>12079</th>\n      <th>12111</th>\n      <th>...</th>\n      <th>12109</th>\n      <th>12101</th>\n      <th>12023</th>\n      <th>12067</th>\n      <th>12103</th>\n      <th>12069</th>\n      <th>12105</th>\n      <th>12027</th>\n      <th>12107</th>\n      <th>12029</th>\n    </tr>\n  </thead>\n  <tbody>\n    <tr>\n      <th>total</th>\n      <td>12979</td>\n      <td>3040</td>\n      <td>5620</td>\n      <td>636</td>\n      <td>15</td>\n      <td>8</td>\n      <td>376</td>\n      <td>528</td>\n      <td>50</td>\n      <td>1218</td>\n      <td>...</td>\n      <td>5765</td>\n      <td>3731</td>\n      <td>221</td>\n      <td>19</td>\n      <td>10760</td>\n      <td>1125</td>\n      <td>7643</td>\n      <td>481</td>\n      <td>115</td>\n      <td>48</td>\n    </tr>\n    <tr>\n      <th>name</th>\n      <td>lee</td>\n      <td>leon</td>\n      <td>duval</td>\n      <td>levy</td>\n      <td>escambia</td>\n      <td>liberty</td>\n      <td>sumter</td>\n      <td>flagler</td>\n      <td>madison</td>\n      <td>st_lucie</td>\n      <td>...</td>\n      <td>st_johns</td>\n      <td>pasco</td>\n      <td>columbia</td>\n      <td>lafayette</td>\n      <td>pinellas</td>\n      <td>lake</td>\n      <td>polk</td>\n      <td>desoto</td>\n      <td>putnam</td>\n      <td>dixie</td>\n    </tr>\n    <tr>\n      <th>state</th>\n      <td>Florida</td>\n      <td>Florida</td>\n      <td>Florida</td>\n      <td>Florida</td>\n      <td>Florida</td>\n      <td>Florida</td>\n      <td>Florida</td>\n      <td>Florida</td>\n      <td>Florida</td>\n      <td>Florida</td>\n      <td>...</td>\n      <td>Florida</td>\n      <td>Florida</td>\n      <td>Florida</td>\n      <td>Florida</td>\n      <td>Florida</td>\n      <td>Florida</td>\n      <td>Florida</td>\n      <td>Florida</td>\n      <td>Florida</td>\n      <td>Florida</td>\n    </tr>\n  </tbody>\n</table>\n<p>3 rows × 67 columns</p>\n</div>"
     },
     "execution_count": 14,
     "metadata": {},
     "output_type": "execute_result"
    }
   ],
   "source": [
    "ws_df.iloc[1, :] = ws_df.iloc[1, :].apply(lambda x: x.replace(\" \", \"_\"))\n",
    "ws_df"
   ],
   "metadata": {
    "collapsed": false,
    "pycharm": {
     "name": "#%%\n"
    }
   }
  },
  {
   "cell_type": "markdown",
   "source": [
    "Now I can use the \"name\" row to rename the columns."
   ],
   "metadata": {
    "collapsed": false
   }
  },
  {
   "cell_type": "code",
   "execution_count": 15,
   "outputs": [
    {
     "data": {
      "text/plain": "           lee     leon    duval     levy  escambia  liberty   sumter  \\\ntotal    12979     3040     5620      636        15        8      376   \nname       lee     leon    duval     levy  escambia  liberty   sumter   \nstate  Florida  Florida  Florida  Florida   Florida  Florida  Florida   \n\n       flagler  madison  st_lucie  ...  st_johns    pasco  columbia  \\\ntotal      528       50      1218  ...      5765     3731       221   \nname   flagler  madison  st_lucie  ...  st_johns    pasco  columbia   \nstate  Florida  Florida   Florida  ...   Florida  Florida   Florida   \n\n       lafayette  pinellas     lake     polk   desoto   putnam    dixie  \ntotal         19     10760     1125     7643      481      115       48  \nname   lafayette  pinellas     lake     polk   desoto   putnam    dixie  \nstate    Florida   Florida  Florida  Florida  Florida  Florida  Florida  \n\n[3 rows x 67 columns]",
      "text/html": "<div>\n<style scoped>\n    .dataframe tbody tr th:only-of-type {\n        vertical-align: middle;\n    }\n\n    .dataframe tbody tr th {\n        vertical-align: top;\n    }\n\n    .dataframe thead th {\n        text-align: right;\n    }\n</style>\n<table border=\"1\" class=\"dataframe\">\n  <thead>\n    <tr style=\"text-align: right;\">\n      <th></th>\n      <th>lee</th>\n      <th>leon</th>\n      <th>duval</th>\n      <th>levy</th>\n      <th>escambia</th>\n      <th>liberty</th>\n      <th>sumter</th>\n      <th>flagler</th>\n      <th>madison</th>\n      <th>st_lucie</th>\n      <th>...</th>\n      <th>st_johns</th>\n      <th>pasco</th>\n      <th>columbia</th>\n      <th>lafayette</th>\n      <th>pinellas</th>\n      <th>lake</th>\n      <th>polk</th>\n      <th>desoto</th>\n      <th>putnam</th>\n      <th>dixie</th>\n    </tr>\n  </thead>\n  <tbody>\n    <tr>\n      <th>total</th>\n      <td>12979</td>\n      <td>3040</td>\n      <td>5620</td>\n      <td>636</td>\n      <td>15</td>\n      <td>8</td>\n      <td>376</td>\n      <td>528</td>\n      <td>50</td>\n      <td>1218</td>\n      <td>...</td>\n      <td>5765</td>\n      <td>3731</td>\n      <td>221</td>\n      <td>19</td>\n      <td>10760</td>\n      <td>1125</td>\n      <td>7643</td>\n      <td>481</td>\n      <td>115</td>\n      <td>48</td>\n    </tr>\n    <tr>\n      <th>name</th>\n      <td>lee</td>\n      <td>leon</td>\n      <td>duval</td>\n      <td>levy</td>\n      <td>escambia</td>\n      <td>liberty</td>\n      <td>sumter</td>\n      <td>flagler</td>\n      <td>madison</td>\n      <td>st_lucie</td>\n      <td>...</td>\n      <td>st_johns</td>\n      <td>pasco</td>\n      <td>columbia</td>\n      <td>lafayette</td>\n      <td>pinellas</td>\n      <td>lake</td>\n      <td>polk</td>\n      <td>desoto</td>\n      <td>putnam</td>\n      <td>dixie</td>\n    </tr>\n    <tr>\n      <th>state</th>\n      <td>Florida</td>\n      <td>Florida</td>\n      <td>Florida</td>\n      <td>Florida</td>\n      <td>Florida</td>\n      <td>Florida</td>\n      <td>Florida</td>\n      <td>Florida</td>\n      <td>Florida</td>\n      <td>Florida</td>\n      <td>...</td>\n      <td>Florida</td>\n      <td>Florida</td>\n      <td>Florida</td>\n      <td>Florida</td>\n      <td>Florida</td>\n      <td>Florida</td>\n      <td>Florida</td>\n      <td>Florida</td>\n      <td>Florida</td>\n      <td>Florida</td>\n    </tr>\n  </tbody>\n</table>\n<p>3 rows × 67 columns</p>\n</div>"
     },
     "execution_count": 15,
     "metadata": {},
     "output_type": "execute_result"
    }
   ],
   "source": [
    "ws_df = ws_df.rename(columns=ws_df.iloc[1, :])\n",
    "ws_df"
   ],
   "metadata": {
    "collapsed": false,
    "pycharm": {
     "name": "#%%\n"
    }
   }
  },
  {
   "cell_type": "markdown",
   "source": [
    "Now I can drop the \"state\" and \"name\" rows."
   ],
   "metadata": {
    "collapsed": false
   }
  },
  {
   "cell_type": "code",
   "execution_count": 16,
   "outputs": [
    {
     "data": {
      "text/plain": "         lee  leon duval levy escambia liberty sumter flagler madison  \\\ntotal  12979  3040  5620  636       15       8    376     528      50   \n\n      st_lucie  ... st_johns pasco columbia lafayette pinellas  lake  polk  \\\ntotal     1218  ...     5765  3731      221        19    10760  1125  7643   \n\n      desoto putnam dixie  \ntotal    481    115    48  \n\n[1 rows x 67 columns]",
      "text/html": "<div>\n<style scoped>\n    .dataframe tbody tr th:only-of-type {\n        vertical-align: middle;\n    }\n\n    .dataframe tbody tr th {\n        vertical-align: top;\n    }\n\n    .dataframe thead th {\n        text-align: right;\n    }\n</style>\n<table border=\"1\" class=\"dataframe\">\n  <thead>\n    <tr style=\"text-align: right;\">\n      <th></th>\n      <th>lee</th>\n      <th>leon</th>\n      <th>duval</th>\n      <th>levy</th>\n      <th>escambia</th>\n      <th>liberty</th>\n      <th>sumter</th>\n      <th>flagler</th>\n      <th>madison</th>\n      <th>st_lucie</th>\n      <th>...</th>\n      <th>st_johns</th>\n      <th>pasco</th>\n      <th>columbia</th>\n      <th>lafayette</th>\n      <th>pinellas</th>\n      <th>lake</th>\n      <th>polk</th>\n      <th>desoto</th>\n      <th>putnam</th>\n      <th>dixie</th>\n    </tr>\n  </thead>\n  <tbody>\n    <tr>\n      <th>total</th>\n      <td>12979</td>\n      <td>3040</td>\n      <td>5620</td>\n      <td>636</td>\n      <td>15</td>\n      <td>8</td>\n      <td>376</td>\n      <td>528</td>\n      <td>50</td>\n      <td>1218</td>\n      <td>...</td>\n      <td>5765</td>\n      <td>3731</td>\n      <td>221</td>\n      <td>19</td>\n      <td>10760</td>\n      <td>1125</td>\n      <td>7643</td>\n      <td>481</td>\n      <td>115</td>\n      <td>48</td>\n    </tr>\n  </tbody>\n</table>\n<p>1 rows × 67 columns</p>\n</div>"
     },
     "execution_count": 16,
     "metadata": {},
     "output_type": "execute_result"
    }
   ],
   "source": [
    "ws_df = ws_df.drop(labels=['state', 'name'], axis=0)\n",
    "ws_df"
   ],
   "metadata": {
    "collapsed": false,
    "pycharm": {
     "name": "#%%\n"
    }
   }
  },
  {
   "cell_type": "markdown",
   "source": [
    "Finally, I will rename the index."
   ],
   "metadata": {
    "collapsed": false
   }
  },
  {
   "cell_type": "code",
   "execution_count": 17,
   "outputs": [
    {
     "data": {
      "text/plain": "               lee  leon duval levy escambia liberty sumter flagler madison  \\\noccurrences  12979  3040  5620  636       15       8    376     528      50   \n\n            st_lucie  ... st_johns pasco columbia lafayette pinellas  lake  \\\noccurrences     1218  ...     5765  3731      221        19    10760  1125   \n\n             polk desoto putnam dixie  \noccurrences  7643    481    115    48  \n\n[1 rows x 67 columns]",
      "text/html": "<div>\n<style scoped>\n    .dataframe tbody tr th:only-of-type {\n        vertical-align: middle;\n    }\n\n    .dataframe tbody tr th {\n        vertical-align: top;\n    }\n\n    .dataframe thead th {\n        text-align: right;\n    }\n</style>\n<table border=\"1\" class=\"dataframe\">\n  <thead>\n    <tr style=\"text-align: right;\">\n      <th></th>\n      <th>lee</th>\n      <th>leon</th>\n      <th>duval</th>\n      <th>levy</th>\n      <th>escambia</th>\n      <th>liberty</th>\n      <th>sumter</th>\n      <th>flagler</th>\n      <th>madison</th>\n      <th>st_lucie</th>\n      <th>...</th>\n      <th>st_johns</th>\n      <th>pasco</th>\n      <th>columbia</th>\n      <th>lafayette</th>\n      <th>pinellas</th>\n      <th>lake</th>\n      <th>polk</th>\n      <th>desoto</th>\n      <th>putnam</th>\n      <th>dixie</th>\n    </tr>\n  </thead>\n  <tbody>\n    <tr>\n      <th>occurrences</th>\n      <td>12979</td>\n      <td>3040</td>\n      <td>5620</td>\n      <td>636</td>\n      <td>15</td>\n      <td>8</td>\n      <td>376</td>\n      <td>528</td>\n      <td>50</td>\n      <td>1218</td>\n      <td>...</td>\n      <td>5765</td>\n      <td>3731</td>\n      <td>221</td>\n      <td>19</td>\n      <td>10760</td>\n      <td>1125</td>\n      <td>7643</td>\n      <td>481</td>\n      <td>115</td>\n      <td>48</td>\n    </tr>\n  </tbody>\n</table>\n<p>1 rows × 67 columns</p>\n</div>"
     },
     "execution_count": 17,
     "metadata": {},
     "output_type": "execute_result"
    }
   ],
   "source": [
    "ws_df = ws_df.rename(index={'total': 'occurrences'})\n",
    "ws_df"
   ],
   "metadata": {
    "collapsed": false,
    "pycharm": {
     "name": "#%%\n"
    }
   }
  },
  {
   "cell_type": "markdown",
   "source": [
    "Now I should be able to integrate these data with my other sources without too much further processing.  I may try\n",
    "repeating the same procedure with other species for comparison as well."
   ],
   "metadata": {
    "collapsed": false,
    "pycharm": {
     "name": "#%% md\n"
    }
   }
  }
 ],
 "metadata": {
  "kernelspec": {
   "display_name": "Python 3",
   "language": "python",
   "name": "python3"
  },
  "language_info": {
   "codemirror_mode": {
    "name": "ipython",
    "version": 2
   },
   "file_extension": ".py",
   "mimetype": "text/x-python",
   "name": "python",
   "nbconvert_exporter": "python",
   "pygments_lexer": "ipython2",
   "version": "2.7.6"
  }
 },
 "nbformat": 4,
 "nbformat_minor": 0
}