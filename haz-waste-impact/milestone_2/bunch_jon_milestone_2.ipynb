{
 "cells": [
  {
   "cell_type": "markdown",
   "metadata": {
    "collapsed": true,
    "pycharm": {
     "name": "#%% md\n"
    }
   },
   "source": [
    "# Jonathan Bunch\n",
    "# 25 April, 2021\n",
    "# Project Milestone 2\n",
    "\n",
    "This data set contains information about closed hazardous waste facilities in Florida. The data set is already relatively well cleaned and formatted, so it should only need a few basic transformations."
   ]
  },
  {
   "cell_type": "code",
   "execution_count": 2,
   "outputs": [
    {
     "data": {
      "text/plain": "           X          Y    HANDLER_ID  SITE_ID                          NAME  \\\n0 -82.341709  29.705980  FLD981479280    40304               Port O Port Inc   \n1 -82.517252  29.802618  FLD984215707    49578              BP Oil Co #24488   \n2 -82.320162  29.679918  FLD984216754    46124  Blackwelder Radiator Service   \n3 -82.378834  29.602923  FLD981749724    48483    Boone Waste Industries Inc   \n4 -82.404448  29.671950  FLD981749922    48488                  Cameron Cars   \n\n          CITY   ZIP5    ZIP4 OFFICE                NOTIFIED FAC_INS_TYPE  \\\n0  Gainesville  32653  2111.0    NED  1986/08/15 00:00:00+00       CLO-SV   \n1      Alachua  29465     NaN    NED  1991/12/15 00:00:00+00          NaN   \n2  Gainesville  32609  6026.0    NED  1991/08/15 00:00:00+00          NaN   \n3  Gainesville  32608  4929.0    NED  1986/11/15 00:00:00+00            -   \n4  Gainesville  30501  1532.0    NED  1986/10/15 00:00:00+00          NaN   \n\n           LAST_INSP_DATE  OBJECTID                       ADDRESS  \\\n0  2020/03/24 14:17:13+00         1               1506 NW 55th Pl   \n1  1970/01/01 00:00:00+00         2  Rt 1 Box 229 I-75 Us Hwy 441   \n2  1970/01/01 00:00:00+00         3                3020 N Main St   \n3  1996/01/25 00:00:00+00         4             5002 SW 41st Blvd   \n4  1970/01/01 00:00:00+00         5          1758 Dawsonville Hwy   \n\n   CC2_COUNTY_ID                                          DOCUMENTS  \\\n0              1  https://prodenv.dep.state.fl.us/DepNexus/publi...   \n1              1  https://prodenv.dep.state.fl.us/DepNexus/publi...   \n2              1  https://prodenv.dep.state.fl.us/DepNexus/publi...   \n3              1  https://prodenv.dep.state.fl.us/DepNexus/publi...   \n4              1  https://prodenv.dep.state.fl.us/DepNexus/publi...   \n\n  COUNTY_NAME  \n0     Alachua  \n1     Alachua  \n2     Alachua  \n3     Alachua  \n4     Alachua  ",
      "text/html": "<div>\n<style scoped>\n    .dataframe tbody tr th:only-of-type {\n        vertical-align: middle;\n    }\n\n    .dataframe tbody tr th {\n        vertical-align: top;\n    }\n\n    .dataframe thead th {\n        text-align: right;\n    }\n</style>\n<table border=\"1\" class=\"dataframe\">\n  <thead>\n    <tr style=\"text-align: right;\">\n      <th></th>\n      <th>X</th>\n      <th>Y</th>\n      <th>HANDLER_ID</th>\n      <th>SITE_ID</th>\n      <th>NAME</th>\n      <th>CITY</th>\n      <th>ZIP5</th>\n      <th>ZIP4</th>\n      <th>OFFICE</th>\n      <th>NOTIFIED</th>\n      <th>FAC_INS_TYPE</th>\n      <th>LAST_INSP_DATE</th>\n      <th>OBJECTID</th>\n      <th>ADDRESS</th>\n      <th>CC2_COUNTY_ID</th>\n      <th>DOCUMENTS</th>\n      <th>COUNTY_NAME</th>\n    </tr>\n  </thead>\n  <tbody>\n    <tr>\n      <th>0</th>\n      <td>-82.341709</td>\n      <td>29.705980</td>\n      <td>FLD981479280</td>\n      <td>40304</td>\n      <td>Port O Port Inc</td>\n      <td>Gainesville</td>\n      <td>32653</td>\n      <td>2111.0</td>\n      <td>NED</td>\n      <td>1986/08/15 00:00:00+00</td>\n      <td>CLO-SV</td>\n      <td>2020/03/24 14:17:13+00</td>\n      <td>1</td>\n      <td>1506 NW 55th Pl</td>\n      <td>1</td>\n      <td>https://prodenv.dep.state.fl.us/DepNexus/publi...</td>\n      <td>Alachua</td>\n    </tr>\n    <tr>\n      <th>1</th>\n      <td>-82.517252</td>\n      <td>29.802618</td>\n      <td>FLD984215707</td>\n      <td>49578</td>\n      <td>BP Oil Co #24488</td>\n      <td>Alachua</td>\n      <td>29465</td>\n      <td>NaN</td>\n      <td>NED</td>\n      <td>1991/12/15 00:00:00+00</td>\n      <td>NaN</td>\n      <td>1970/01/01 00:00:00+00</td>\n      <td>2</td>\n      <td>Rt 1 Box 229 I-75 Us Hwy 441</td>\n      <td>1</td>\n      <td>https://prodenv.dep.state.fl.us/DepNexus/publi...</td>\n      <td>Alachua</td>\n    </tr>\n    <tr>\n      <th>2</th>\n      <td>-82.320162</td>\n      <td>29.679918</td>\n      <td>FLD984216754</td>\n      <td>46124</td>\n      <td>Blackwelder Radiator Service</td>\n      <td>Gainesville</td>\n      <td>32609</td>\n      <td>6026.0</td>\n      <td>NED</td>\n      <td>1991/08/15 00:00:00+00</td>\n      <td>NaN</td>\n      <td>1970/01/01 00:00:00+00</td>\n      <td>3</td>\n      <td>3020 N Main St</td>\n      <td>1</td>\n      <td>https://prodenv.dep.state.fl.us/DepNexus/publi...</td>\n      <td>Alachua</td>\n    </tr>\n    <tr>\n      <th>3</th>\n      <td>-82.378834</td>\n      <td>29.602923</td>\n      <td>FLD981749724</td>\n      <td>48483</td>\n      <td>Boone Waste Industries Inc</td>\n      <td>Gainesville</td>\n      <td>32608</td>\n      <td>4929.0</td>\n      <td>NED</td>\n      <td>1986/11/15 00:00:00+00</td>\n      <td>-</td>\n      <td>1996/01/25 00:00:00+00</td>\n      <td>4</td>\n      <td>5002 SW 41st Blvd</td>\n      <td>1</td>\n      <td>https://prodenv.dep.state.fl.us/DepNexus/publi...</td>\n      <td>Alachua</td>\n    </tr>\n    <tr>\n      <th>4</th>\n      <td>-82.404448</td>\n      <td>29.671950</td>\n      <td>FLD981749922</td>\n      <td>48488</td>\n      <td>Cameron Cars</td>\n      <td>Gainesville</td>\n      <td>30501</td>\n      <td>1532.0</td>\n      <td>NED</td>\n      <td>1986/10/15 00:00:00+00</td>\n      <td>NaN</td>\n      <td>1970/01/01 00:00:00+00</td>\n      <td>5</td>\n      <td>1758 Dawsonville Hwy</td>\n      <td>1</td>\n      <td>https://prodenv.dep.state.fl.us/DepNexus/publi...</td>\n      <td>Alachua</td>\n    </tr>\n  </tbody>\n</table>\n</div>"
     },
     "execution_count": 2,
     "metadata": {},
     "output_type": "execute_result"
    }
   ],
   "source": [
    "# Import libraries.\n",
    "import pandas as pd\n",
    "import matplotlib.pyplot as plt\n",
    "\n",
    "# Import the data.\n",
    "haz_raw = pd.read_csv(\"Closed_Hazardous_Waste_Facilities.csv\")\n",
    "\n",
    "# View a sample of the data.\n",
    "haz_raw.head()"
   ],
   "metadata": {
    "collapsed": false,
    "pycharm": {
     "name": "#%%\n"
    }
   }
  },
  {
   "cell_type": "markdown",
   "source": [
    "Now that we can see all the columns, I can start removing some irrelevant variables."
   ],
   "metadata": {
    "collapsed": false,
    "pycharm": {
     "name": "#%% md\n"
    }
   }
  },
  {
   "cell_type": "code",
   "execution_count": 3,
   "outputs": [
    {
     "data": {
      "text/plain": "                           NAME         CITY  CC2_COUNTY_ID COUNTY_NAME\n0               Port O Port Inc  Gainesville              1     Alachua\n1              BP Oil Co #24488      Alachua              1     Alachua\n2  Blackwelder Radiator Service  Gainesville              1     Alachua\n3    Boone Waste Industries Inc  Gainesville              1     Alachua\n4                  Cameron Cars  Gainesville              1     Alachua",
      "text/html": "<div>\n<style scoped>\n    .dataframe tbody tr th:only-of-type {\n        vertical-align: middle;\n    }\n\n    .dataframe tbody tr th {\n        vertical-align: top;\n    }\n\n    .dataframe thead th {\n        text-align: right;\n    }\n</style>\n<table border=\"1\" class=\"dataframe\">\n  <thead>\n    <tr style=\"text-align: right;\">\n      <th></th>\n      <th>NAME</th>\n      <th>CITY</th>\n      <th>CC2_COUNTY_ID</th>\n      <th>COUNTY_NAME</th>\n    </tr>\n  </thead>\n  <tbody>\n    <tr>\n      <th>0</th>\n      <td>Port O Port Inc</td>\n      <td>Gainesville</td>\n      <td>1</td>\n      <td>Alachua</td>\n    </tr>\n    <tr>\n      <th>1</th>\n      <td>BP Oil Co #24488</td>\n      <td>Alachua</td>\n      <td>1</td>\n      <td>Alachua</td>\n    </tr>\n    <tr>\n      <th>2</th>\n      <td>Blackwelder Radiator Service</td>\n      <td>Gainesville</td>\n      <td>1</td>\n      <td>Alachua</td>\n    </tr>\n    <tr>\n      <th>3</th>\n      <td>Boone Waste Industries Inc</td>\n      <td>Gainesville</td>\n      <td>1</td>\n      <td>Alachua</td>\n    </tr>\n    <tr>\n      <th>4</th>\n      <td>Cameron Cars</td>\n      <td>Gainesville</td>\n      <td>1</td>\n      <td>Alachua</td>\n    </tr>\n  </tbody>\n</table>\n</div>"
     },
     "execution_count": 3,
     "metadata": {},
     "output_type": "execute_result"
    }
   ],
   "source": [
    "haz_keep_list = ['NAME', 'CITY', 'CC2_COUNTY_ID', 'COUNTY_NAME']\n",
    "haz_sub_1 = haz_raw[haz_keep_list]\n",
    "haz_sub_1.head()"
   ],
   "metadata": {
    "collapsed": false,
    "pycharm": {
     "name": "#%%\n"
    }
   }
  },
  {
   "cell_type": "markdown",
   "source": [
    "The all capitalized column names are a little inconvenient, so I will rename them."
   ],
   "metadata": {
    "collapsed": false,
    "pycharm": {
     "name": "#%% md\n"
    }
   }
  },
  {
   "cell_type": "code",
   "execution_count": 4,
   "outputs": [
    {
     "data": {
      "text/plain": "                           name         city  county_id   county\n0               Port O Port Inc  Gainesville          1  Alachua\n1              BP Oil Co #24488      Alachua          1  Alachua\n2  Blackwelder Radiator Service  Gainesville          1  Alachua\n3    Boone Waste Industries Inc  Gainesville          1  Alachua\n4                  Cameron Cars  Gainesville          1  Alachua",
      "text/html": "<div>\n<style scoped>\n    .dataframe tbody tr th:only-of-type {\n        vertical-align: middle;\n    }\n\n    .dataframe tbody tr th {\n        vertical-align: top;\n    }\n\n    .dataframe thead th {\n        text-align: right;\n    }\n</style>\n<table border=\"1\" class=\"dataframe\">\n  <thead>\n    <tr style=\"text-align: right;\">\n      <th></th>\n      <th>name</th>\n      <th>city</th>\n      <th>county_id</th>\n      <th>county</th>\n    </tr>\n  </thead>\n  <tbody>\n    <tr>\n      <th>0</th>\n      <td>Port O Port Inc</td>\n      <td>Gainesville</td>\n      <td>1</td>\n      <td>Alachua</td>\n    </tr>\n    <tr>\n      <th>1</th>\n      <td>BP Oil Co #24488</td>\n      <td>Alachua</td>\n      <td>1</td>\n      <td>Alachua</td>\n    </tr>\n    <tr>\n      <th>2</th>\n      <td>Blackwelder Radiator Service</td>\n      <td>Gainesville</td>\n      <td>1</td>\n      <td>Alachua</td>\n    </tr>\n    <tr>\n      <th>3</th>\n      <td>Boone Waste Industries Inc</td>\n      <td>Gainesville</td>\n      <td>1</td>\n      <td>Alachua</td>\n    </tr>\n    <tr>\n      <th>4</th>\n      <td>Cameron Cars</td>\n      <td>Gainesville</td>\n      <td>1</td>\n      <td>Alachua</td>\n    </tr>\n  </tbody>\n</table>\n</div>"
     },
     "execution_count": 4,
     "metadata": {},
     "output_type": "execute_result"
    }
   ],
   "source": [
    "haz_new_names = {'NAME': 'name', 'CITY': 'city', 'CC2_COUNTY_ID': 'county_id', 'COUNTY_NAME': 'county'}\n",
    "haz_sub_2 = haz_sub_1.rename(columns=haz_new_names)\n",
    "haz_sub_2.head()"
   ],
   "metadata": {
    "collapsed": false,
    "pycharm": {
     "name": "#%%\n"
    }
   }
  },
  {
   "cell_type": "markdown",
   "source": [
    "Next I will check for missing values."
   ],
   "metadata": {
    "collapsed": false,
    "pycharm": {
     "name": "#%% md\n"
    }
   }
  },
  {
   "cell_type": "code",
   "execution_count": 5,
   "outputs": [
    {
     "data": {
      "text/plain": "name         0\ncity         0\ncounty_id    0\ncounty       0\ndtype: int64"
     },
     "execution_count": 5,
     "metadata": {},
     "output_type": "execute_result"
    }
   ],
   "source": [
    "haz_sub_2.isna().sum()"
   ],
   "metadata": {
    "collapsed": false,
    "pycharm": {
     "name": "#%%\n"
    }
   }
  },
  {
   "cell_type": "markdown",
   "source": [
    "There are no missing values, so lets check for outliers. I will try a histogram first."
   ],
   "metadata": {
    "collapsed": false,
    "pycharm": {
     "name": "#%% md\n"
    }
   }
  },
  {
   "cell_type": "code",
   "execution_count": 6,
   "outputs": [
    {
     "name": "stdout",
     "output_type": "stream",
     "text": [
      "len(haz_sub_2.county_id.unique()) = 67\n"
     ]
    },
    {
     "data": {
      "text/plain": "<Figure size 432x288 with 1 Axes>",
      "image/png": "[encoded data removed]"
     },
     "metadata": {
      "needs_background": "light"
     },
     "output_type": "display_data"
    }
   ],
   "source": [
    "# I will use a count of unique values as the bin size so we can see the count for each individual county.\n",
    "print(f\"{len(haz_sub_2.county_id.unique()) = }\")\n",
    "haz_sub_2.county.hist(bins=67)\n",
    "plt.show()"
   ],
   "metadata": {
    "collapsed": false,
    "pycharm": {
     "name": "#%%\n"
    }
   }
  },
  {
   "cell_type": "markdown",
   "source": [
    "A histogram might not be the best choice for this application. Simply using the value counts will probably be easier in this case."
   ],
   "metadata": {
    "collapsed": false,
    "pycharm": {
     "name": "#%% md\n"
    }
   }
  },
  {
   "cell_type": "code",
   "execution_count": 11,
   "outputs": [
    {
     "name": "stdout",
     "output_type": "stream",
     "text": [
      "Orange          1815\n",
      "Miami-Dade      1465\n",
      "Broward         1417\n",
      "Hillsborough    1026\n",
      "Duval            989\n",
      "                ... \n",
      "Holmes             3\n",
      "Gulf               3\n",
      "Gilchrist          2\n",
      "Glades             2\n",
      "Liberty            2\n",
      "Name: county, Length: 67, dtype: int64\n"
     ]
    }
   ],
   "source": [
    "print(f'{haz_sub_2.county.value_counts()}')"
   ],
   "metadata": {
    "collapsed": false,
    "pycharm": {
     "name": "#%%\n"
    }
   }
  },
  {
   "cell_type": "markdown",
   "source": [
    "We can see that there are at least a few counties with very few observations.  However, I would like to investigate my other data sources before removing any counties.\n",
    "\n",
    "Finally, I will take a look at the unique values, which, in this case, represent the individual counties."
   ],
   "metadata": {
    "collapsed": false,
    "pycharm": {
     "name": "#%% md\n"
    }
   }
  },
  {
   "cell_type": "code",
   "execution_count": 12,
   "outputs": [
    {
     "data": {
      "text/plain": "array(['Alachua', 'Bay', 'Brevard', 'Broward', 'Orange', 'Osceola',\n       'Calhoun', 'Charlotte', 'Sarasota', 'Citrus', 'Clay', 'Collier',\n       'Columbia', 'Miami-Dade', 'DeSoto', 'Dixie', 'Duval', 'Escambia',\n       'Flagler', 'Franklin', 'Santa Rosa', 'Gadsden', 'Gilchrist',\n       'Hendry', 'Hernando', 'Highlands', 'Hillsborough', 'Indian River',\n       'Jackson', 'Lake', 'Lee', 'Leon', 'Levy', 'Liberty', 'Madison',\n       'Manatee', 'Marion', 'Martin', 'Monroe', 'Nassau', 'Okaloosa',\n       'Okeechobee', 'Seminole', 'Palm Beach', 'Pasco', 'Pinellas',\n       'Polk', 'Putnam', 'St. Johns', 'St. Lucie', 'Sumter', 'Suwannee',\n       'Volusia', 'Wakulla', 'Walton', 'Washington', 'Taylor', 'Bradford',\n       'Hamilton', 'Baker', 'Gulf', 'Hardee', 'Jefferson', 'Lafayette',\n       'Union', 'Glades', 'Holmes'], dtype=object)"
     },
     "execution_count": 12,
     "metadata": {},
     "output_type": "execute_result"
    }
   ],
   "source": [
    "haz_sub_2.county.unique()"
   ],
   "metadata": {
    "collapsed": false,
    "pycharm": {
     "name": "#%%\n"
    }
   }
  },
  {
   "cell_type": "markdown",
   "source": [
    "There are some concerns here, such as the casing and special characters in some of these values.  Again, I will not start changing these yet because I don't know how my other data sources are formatted, and it may actully be counter-productive.\n",
    "\n",
    "If needed, this transformation should be fairly simple using the \"apply()\" method with a text-stripping function."
   ],
   "metadata": {
    "collapsed": false,
    "pycharm": {
     "name": "#%% md\n"
    }
   }
  }
 ],
 "metadata": {
  "kernelspec": {
   "display_name": "Python 3",
   "language": "python",
   "name": "python3"
  },
  "language_info": {
   "codemirror_mode": {
    "name": "ipython",
    "version": 2
   },
   "file_extension": ".py",
   "mimetype": "text/x-python",
   "name": "python",
   "nbconvert_exporter": "python",
   "pygments_lexer": "ipython2",
   "version": "2.7.6"
  }
 },
 "nbformat": 4,
 "nbformat_minor": 0
}