{
 "cells": [
  {
   "cell_type": "markdown",
   "source": [
    "## Jonathan Bunch\n",
    "## Project Milestone 3\n",
    "## 4 May 2021"
   ],
   "metadata": {
    "collapsed": false
   }
  },
  {
   "cell_type": "markdown",
   "source": [
    "### For this milestone I will be working with voter registration data from the Florida Department of State.\n",
    "### The table contained on this website provides the number of registered voters for each party in each county.\n",
    "https://dos.myflorida.com/elections/data-statistics/voter-registration-statistics/voter-registration-reportsxlsx/voter-registration-by-county-and-party/"
   ],
   "metadata": {
    "collapsed": false
   }
  },
  {
   "cell_type": "markdown",
   "source": [
    "I will begin by using the BeautifulSoup library to parse the html document and extract the desired data."
   ],
   "metadata": {
    "collapsed": false,
    "pycharm": {
     "name": "#%% md\n"
    }
   }
  },
  {
   "cell_type": "code",
   "execution_count": 42,
   "outputs": [
    {
     "name": "stdout",
     "output_type": "stream",
     "text": [
      "Number of tables: 1\n",
      "List of table headers: ['County', 'Republican Party Of Florida', 'Florida Democratic Party', 'Minor Party', 'No Party Affiliation', 'Totals']\n"
     ]
    },
    {
     "data": {
      "text/plain": "     County Republican Party Of Florida Florida Democratic Party Minor Party  \\\n0   ALACHUA                      51,428                   94,991       3,012   \n1     BAKER                      10,702                    4,420         172   \n2       BAY                      67,625                   29,906       2,531   \n3  BRADFORD                       9,578                    5,476         174   \n4   BREVARD                     193,203                  138,446      10,317   \n\n  No Party Affiliation   Totals  \n0               43,890  193,321  \n1                2,017   17,311  \n2               27,278  127,340  \n3                2,679   17,907  \n4              115,936  457,902  ",
      "text/html": "<div>\n<style scoped>\n    .dataframe tbody tr th:only-of-type {\n        vertical-align: middle;\n    }\n\n    .dataframe tbody tr th {\n        vertical-align: top;\n    }\n\n    .dataframe thead th {\n        text-align: right;\n    }\n</style>\n<table border=\"1\" class=\"dataframe\">\n  <thead>\n    <tr style=\"text-align: right;\">\n      <th></th>\n      <th>County</th>\n      <th>Republican Party Of Florida</th>\n      <th>Florida Democratic Party</th>\n      <th>Minor Party</th>\n      <th>No Party Affiliation</th>\n      <th>Totals</th>\n    </tr>\n  </thead>\n  <tbody>\n    <tr>\n      <th>0</th>\n      <td>ALACHUA</td>\n      <td>51,428</td>\n      <td>94,991</td>\n      <td>3,012</td>\n      <td>43,890</td>\n      <td>193,321</td>\n    </tr>\n    <tr>\n      <th>1</th>\n      <td>BAKER</td>\n      <td>10,702</td>\n      <td>4,420</td>\n      <td>172</td>\n      <td>2,017</td>\n      <td>17,311</td>\n    </tr>\n    <tr>\n      <th>2</th>\n      <td>BAY</td>\n      <td>67,625</td>\n      <td>29,906</td>\n      <td>2,531</td>\n      <td>27,278</td>\n      <td>127,340</td>\n    </tr>\n    <tr>\n      <th>3</th>\n      <td>BRADFORD</td>\n      <td>9,578</td>\n      <td>5,476</td>\n      <td>174</td>\n      <td>2,679</td>\n      <td>17,907</td>\n    </tr>\n    <tr>\n      <th>4</th>\n      <td>BREVARD</td>\n      <td>193,203</td>\n      <td>138,446</td>\n      <td>10,317</td>\n      <td>115,936</td>\n      <td>457,902</td>\n    </tr>\n  </tbody>\n</table>\n</div>"
     },
     "execution_count": 42,
     "metadata": {},
     "output_type": "execute_result"
    }
   ],
   "source": [
    "import pandas as pd\n",
    "import matplotlib.pyplot as plt\n",
    "from bs4 import BeautifulSoup\n",
    "\n",
    "# Open the html file and use the BeautifulSoup library to read in the html structure and contents.\n",
    "with open(\"fl_voter_registration_march_2021.html\", \"r\") as s:\n",
    "    html_data = BeautifulSoup(s, features=\"html.parser\")\n",
    "\n",
    "# I would expect to find only one table on this website, but I will use find_all() and check the length to make sure.\n",
    "print(f\"Number of tables: {len(html_data.find_all('table'))}\")\n",
    "\n",
    "# Since we know there is indeed only one table, we can use the find() method which extracts only the first occurrence.\n",
    "voter_table_raw = html_data.find(\"table\")\n",
    "\n",
    "# Extract the headers from the table using the find_all() method to find all 'th' tags.\n",
    "voter_headers_raw = [th.getText() for th in voter_table_raw.find_all('th')]\n",
    "# Check that we got the expected results.\n",
    "print(f\"List of table headers: {voter_headers_raw}\")\n",
    "\n",
    "# Now we can extract the data from the table. I will start by creating a list of all data rows.\n",
    "voter_data_rows = [tr for tr in voter_table_raw.find_all('tr')[1:]]\n",
    "# Then extract the text from each data point, row-wise, to create a nested list of values within a list of rows.\n",
    "voter_data_by_row = [[td.getText() for td in tr.find_all('td')] for tr in voter_data_rows]\n",
    "# Finally, combine the headers and data into a data frame and check the results.\n",
    "voter_df_raw = pd.DataFrame(voter_data_by_row, columns=voter_headers_raw)\n",
    "voter_df_raw.head()"
   ],
   "metadata": {
    "collapsed": false,
    "pycharm": {
     "name": "#%%\n"
    }
   }
  },
  {
   "cell_type": "markdown",
   "source": [
    "Now that we have the data imported and roughly organized, I can begin exploring it and decide how best to proceed with cleaning and formatting."
   ],
   "metadata": {
    "collapsed": false
   }
  },
  {
   "cell_type": "code",
   "execution_count": 43,
   "outputs": [
    {
     "name": "stdout",
     "output_type": "stream",
     "text": [
      "<class 'pandas.core.frame.DataFrame'>\n",
      "RangeIndex: 68 entries, 0 to 67\n",
      "Data columns (total 6 columns):\n",
      " #   Column                       Non-Null Count  Dtype \n",
      "---  ------                       --------------  ----- \n",
      " 0   County                       68 non-null     object\n",
      " 1   Republican Party Of Florida  68 non-null     object\n",
      " 2   Florida Democratic Party     68 non-null     object\n",
      " 3   Minor Party                  68 non-null     object\n",
      " 4   No Party Affiliation         68 non-null     object\n",
      " 5   Totals                       68 non-null     object\n",
      "dtypes: object(6)\n",
      "memory usage: 3.3+ KB\n",
      "<bound method DataFrame.info of         County Republican Party Of Florida Florida Democratic Party  \\\n",
      "0      ALACHUA                      51,428                   94,991   \n",
      "1        BAKER                      10,702                    4,420   \n",
      "2          BAY                      67,625                   29,906   \n",
      "3     BRADFORD                       9,578                    5,476   \n",
      "4      BREVARD                     193,203                  138,446   \n",
      "..         ...                         ...                      ...   \n",
      "63     VOLUSIA                     152,773                  133,026   \n",
      "64     WAKULLA                      11,080                    7,695   \n",
      "65      WALTON                      35,701                   10,471   \n",
      "66  WASHINGTON                       9,714                    4,718   \n",
      "67      TOTALS                   5,185,744                5,290,465   \n",
      "\n",
      "   Minor Party No Party Affiliation      Totals  \n",
      "0        3,012               43,890     193,321  \n",
      "1          172                2,017      17,311  \n",
      "2        2,531               27,278     127,340  \n",
      "3          174                2,679      17,907  \n",
      "4       10,317              115,936     457,902  \n",
      "..         ...                  ...         ...  \n",
      "63       7,789              114,674     408,262  \n",
      "64         344                4,063      23,182  \n",
      "65       1,138               11,537      58,847  \n",
      "66         165                2,716      17,313  \n",
      "67     247,108            3,832,070  14,555,387  \n",
      "\n",
      "[68 rows x 6 columns]> \n",
      " None\n"
     ]
    }
   ],
   "source": [
    "# View some basic descriptive information about the data frame.\n",
    "print(f\"{voter_df_raw.info} \\n {voter_df_raw.info(verbose=True)}\")"
   ],
   "metadata": {
    "collapsed": false,
    "pycharm": {
     "name": "#%%\n"
    }
   }
  },
  {
   "cell_type": "markdown",
   "source": [
    "This information reveals several things that stand out to me as needing attention: column names, data types, commas in\n",
    "numerical values, inconsistent county name formatting, and the bottom \"Totals\" row.\n",
    "\n",
    "I will start with the simplest issue to fix: the final \"Totals\" row. Having a totals column is fine, but as a row is\n",
    "unnecessary and likely to cause confusion. We could easily calculate those values if we need them anyway, so I will\n",
    "just remove that row."
   ],
   "metadata": {
    "collapsed": false
   }
  },
  {
   "cell_type": "code",
   "execution_count": 44,
   "outputs": [],
   "source": [
    "# We can use the drop() method to remove the row by index.\n",
    "voter_sub_1 = voter_df_raw.drop(67)"
   ],
   "metadata": {
    "collapsed": false,
    "pycharm": {
     "name": "#%%\n"
    }
   }
  },
  {
   "cell_type": "markdown",
   "source": [
    "Next, I will address the column names. Some have spaces and they use title casing; I will replace them\n",
    "with versions that match my preferred format (lower case letters, integers, and underscores only)."
   ],
   "metadata": {
    "collapsed": false
   }
  },
  {
   "cell_type": "code",
   "execution_count": 45,
   "outputs": [
    {
     "name": "stdout",
     "output_type": "stream",
     "text": [
      "Original column names:\n",
      "Index(['County', 'Republican Party Of Florida', 'Florida Democratic Party',\n",
      "       'Minor Party', 'No Party Affiliation', 'Totals'],\n",
      "      dtype='object')\n",
      "\n",
      "New column names:\n",
      "['county', 'republican', 'democrat', 'minor_party', 'no_party', 'totals']\n",
      "\n",
      "     county republican democrat minor_party no_party   totals\n",
      "0   ALACHUA     51,428   94,991       3,012   43,890  193,321\n",
      "1     BAKER     10,702    4,420         172    2,017   17,311\n",
      "2       BAY     67,625   29,906       2,531   27,278  127,340\n",
      "3  BRADFORD      9,578    5,476         174    2,679   17,907\n",
      "4   BREVARD    193,203  138,446      10,317  115,936  457,902\n",
      "<class 'pandas.core.frame.DataFrame'>\n",
      "Int64Index: 67 entries, 0 to 66\n",
      "Data columns (total 6 columns):\n",
      " #   Column       Non-Null Count  Dtype \n",
      "---  ------       --------------  ----- \n",
      " 0   county       67 non-null     object\n",
      " 1   republican   67 non-null     object\n",
      " 2   democrat     67 non-null     object\n",
      " 3   minor_party  67 non-null     object\n",
      " 4   no_party     67 non-null     object\n",
      " 5   totals       67 non-null     object\n",
      "dtypes: object(6)\n",
      "memory usage: 3.7+ KB\n"
     ]
    }
   ],
   "source": [
    "# View the original column names again so I can be sure to preserve the order.\n",
    "print(f\"Original column names:\\n{voter_sub_1.columns}\\n\")\n",
    "# Create a list of the new names I chose.\n",
    "voter_col_names = ['county', 'republican', 'democrat', 'minor_party', 'no_party', 'totals']\n",
    "print(f\"New column names:\\n{voter_col_names}\\n\")\n",
    "# Create a renaming map from the original and replacement column names.\n",
    "col_name_dict = dict(zip(voter_sub_1.columns, voter_col_names))\n",
    "# Replace the orginal column names with the new ones.\n",
    "voter_sub_2 = voter_sub_1.rename(columns=col_name_dict)\n",
    "# Check the results.\n",
    "print(voter_sub_2.head())\n",
    "# View the data frame info again.\n",
    "voter_sub_2.info()"
   ],
   "metadata": {
    "collapsed": false,
    "pycharm": {
     "name": "#%%\n"
    }
   }
  },
  {
   "cell_type": "markdown",
   "source": [
    "Next, we need to address some of the string formatting issues in the values. Most importantly, I need to remove the\n",
    "commas in the numerical values. These will prevent Python from converting those values to a numerical data type.\n",
    "A simple string formatting function, applied to the numerical columns, should be able to solve this problem.\n",
    "\n",
    "I also want to modify the county names to match my desired format. I could apply a different function to this column,\n",
    "but in this case there is actually no reason not to use a single function to fix the names and the numerical values."
   ],
   "metadata": {
    "collapsed": false
   }
  },
  {
   "cell_type": "code",
   "execution_count": 46,
   "outputs": [
    {
     "name": "stdout",
     "output_type": "stream",
     "text": [
      "     county republican democrat minor_party no_party  totals\n",
      "0   alachua      51428    94991        3012    43890  193321\n",
      "1     baker      10702     4420         172     2017   17311\n",
      "2       bay      67625    29906        2531    27278  127340\n",
      "3  bradford       9578     5476         174     2679   17907\n",
      "4   brevard     193203   138446       10317   115936  457902\n"
     ]
    }
   ],
   "source": [
    "# This function will remove commas and the other unwanted special characters, change all casing to lower, and replace\n",
    "# spaces with underscores.\n",
    "def format_vals(name):\n",
    "    name = name.lower()\n",
    "    name = name.replace(',', '').replace('.', '').replace(' ', '_').replace('-', '_')\n",
    "    return name\n",
    "\n",
    "\n",
    "# I will use the applymap() method to apply this function to the entire data frame.\n",
    "voter_sub_2 = voter_sub_2.applymap(format_vals)\n",
    "print(voter_sub_2.head())"
   ],
   "metadata": {
    "collapsed": false,
    "pycharm": {
     "name": "#%%\n"
    }
   }
  },
  {
   "cell_type": "markdown",
   "source": [
    "Next, I will address the data types. We can see from the .info() call earlier that the columns are all currently\n",
    "object data types. I explored several methods for modifying the data types, and decided to go with the astype() method.\n",
    "This method can accept a dictionary of the format {column:dtype} as a map of data type assignments for each column."
   ],
   "metadata": {
    "collapsed": false
   }
  },
  {
   "cell_type": "code",
   "execution_count": 47,
   "outputs": [
    {
     "name": "stdout",
     "output_type": "stream",
     "text": [
      "<class 'pandas.core.frame.DataFrame'>\n",
      "Int64Index: 67 entries, 0 to 66\n",
      "Data columns (total 6 columns):\n",
      " #   Column       Non-Null Count  Dtype \n",
      "---  ------       --------------  ----- \n",
      " 0   county       67 non-null     string\n",
      " 1   republican   67 non-null     int64 \n",
      " 2   democrat     67 non-null     int64 \n",
      " 3   minor_party  67 non-null     int64 \n",
      " 4   no_party     67 non-null     int64 \n",
      " 5   totals       67 non-null     int64 \n",
      "dtypes: int64(5), string(1)\n",
      "memory usage: 3.7 KB\n"
     ]
    }
   ],
   "source": [
    "# Create the map of column names to desired data types.\n",
    "dtype_map = dict(zip(voter_col_names, ['string', 'int64', 'int64', 'int64', 'int64', 'int64']))\n",
    "# Assign the new data types.\n",
    "voter_sub_2 = voter_sub_2.astype(dtype_map)\n",
    "# Check the results.\n",
    "voter_sub_2.info()"
   ],
   "metadata": {
    "collapsed": false,
    "pycharm": {
     "name": "#%%\n"
    }
   }
  },
  {
   "cell_type": "markdown",
   "source": [
    "Finally, I will check for any NA values, duplicates values, or obvious discrepancies in the descriptive\n",
    "statistics. I will also make a box plot to help visualize extreme values."
   ],
   "metadata": {
    "collapsed": false
   }
  },
  {
   "cell_type": "code",
   "execution_count": 48,
   "outputs": [
    {
     "name": "stdout",
     "output_type": "stream",
     "text": [
      "Check for NAs:\n",
      "county         0\n",
      "republican     0\n",
      "democrat       0\n",
      "minor_party    0\n",
      "no_party       0\n",
      "totals         0\n",
      "dtype: int64\n",
      "\n",
      "number of unique values:\n",
      "county         67\n",
      "republican     67\n",
      "democrat       67\n",
      "minor_party    66\n",
      "no_party       67\n",
      "totals         67\n",
      "dtype: int64\n",
      "if all values are unique, this should match the number of rows: 67\n",
      "\n",
      "          republican       democrat   minor_party       no_party        totals\n",
      "count      67.000000      67.000000     67.000000      67.000000  6.700000e+01\n",
      "mean    77399.164179   78962.164179   3688.179104   57195.074627  2.172446e+05\n",
      "std     90537.984892  133886.588603   5189.627113   92190.915562  3.158817e+05\n",
      "min      1681.000000    1177.000000      8.000000     322.000000  4.521000e+03\n",
      "25%      7621.500000    5845.000000    179.500000    2697.500000  1.761000e+04\n",
      "50%     51428.000000   27408.000000   1569.000000   23518.000000  1.085690e+05\n",
      "75%    117306.000000   92269.000000   4049.000000   64437.000000  2.550755e+05\n",
      "max    429654.000000  636563.000000  21860.000000  487904.000000  1.569431e+06\n"
     ]
    },
    {
     "data": {
      "text/plain": "<Figure size 432x288 with 1 Axes>",
      "image/png": "[encoded data removed]"
     },
     "metadata": {
      "needs_background": "light"
     },
     "output_type": "display_data"
    }
   ],
   "source": [
    "print(f\"Check for NAs:\\n{voter_sub_2.isna().sum()}\\n\")\n",
    "print(f\"number of unique values:\\n{voter_sub_2.nunique()}\")\n",
    "print(f\"if all values are unique, this should match the number of rows: {len(voter_sub_2.county)}\\n\")\n",
    "print(voter_sub_2.describe())\n",
    "\n",
    "# Create a box plot of polital party variables.\n",
    "voter_sub_2.boxplot(column=list(voter_sub_2.columns[1:5]))\n",
    "plt.show()"
   ],
   "metadata": {
    "collapsed": false,
    "pycharm": {
     "name": "#%%\n"
    }
   }
  },
  {
   "cell_type": "markdown",
   "source": [
    "It looks like we don't have any NA values to worry about in this data set.\n",
    "\n",
    "There is one duplicate value in the \"minor_party\" column. I would not expect duplicate values in any of the\n",
    "political party columns to be an issue, since there is no reason to believe there could not be the same number of people\n",
    "registered to a particular party in more than one different place. The only column where duplicates would indicate an\n",
    "issue would be the \"county\" column, since there should only be one record for each county.\n",
    "\n",
    "The boxplot does reveal some extreme values, but in this context I would not expect them to be problematic. Different\n",
    "counties can have significantly different sizes, populations, and demographics, so it makes sense that some densely\n",
    "populated counties could have a much larger number of registered voters.\n",
    "\n",
    "I also noticed a very small minimum value in the 'minor_party' column (8 registered voters in Liberty county). Again,\n",
    "there is no reason to believe very small values are incorrect or erroneous in this context.  However, it does mean that\n",
    "we have very small sample sizes for these groups. I will keep the data as-is for now, but this could be an important\n",
    "consideration moving forward."
   ],
   "metadata": {
    "collapsed": false
   }
  }
 ],
 "metadata": {
  "kernelspec": {
   "display_name": "Python 3",
   "language": "python",
   "name": "python3"
  },
  "language_info": {
   "codemirror_mode": {
    "name": "ipython",
    "version": 2
   },
   "file_extension": ".py",
   "mimetype": "text/x-python",
   "name": "python",
   "nbconvert_exporter": "python",
   "pygments_lexer": "ipython2",
   "version": "2.7.6"
  }
 },
 "nbformat": 4,
 "nbformat_minor": 0
}